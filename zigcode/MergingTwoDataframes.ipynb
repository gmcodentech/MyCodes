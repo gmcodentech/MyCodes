{
 "cells": [
  {
   "cell_type": "code",
   "execution_count": 1,
   "id": "168d2d4c-092d-46dd-b539-4df99815e1dc",
   "metadata": {},
   "outputs": [
    {
     "data": {
      "text/plain": [
       "Intitializing Scala interpreter ..."
      ]
     },
     "metadata": {},
     "output_type": "display_data"
    },
    {
     "data": {
      "text/plain": [
       "Spark Web UI available at http://[2402:3a80:1396:c3a2:f4b6:3f9a:fa45:2160]:4040\n",
       "SparkContext available as 'sc' (version = 3.5.1, master = local[*], app id = local-1720985555797)\n",
       "SparkSession available as 'spark'\n"
      ]
     },
     "metadata": {},
     "output_type": "display_data"
    },
    {
     "data": {
      "text/plain": [
       "res0: String = Hello\r\n"
      ]
     },
     "execution_count": 1,
     "metadata": {},
     "output_type": "execute_result"
    }
   ],
   "source": [
    "\"Hello\""
   ]
  },
  {
   "cell_type": "code",
   "execution_count": 2,
   "id": "fe165952-c02c-441b-9ce5-10391cd0a1cd",
   "metadata": {},
   "outputs": [
    {
     "data": {
      "text/plain": [
       "list: scala.collection.immutable.Range.Inclusive = Range 1 to 10\r\n"
      ]
     },
     "execution_count": 2,
     "metadata": {},
     "output_type": "execute_result"
    }
   ],
   "source": [
    "val list = 1 to 10"
   ]
  },
  {
   "cell_type": "code",
   "execution_count": 3,
   "id": "71814a55-e64f-4f58-9161-8ec4c41c6972",
   "metadata": {},
   "outputs": [
    {
     "data": {
      "text/plain": [
       "letters: List[String] = List(A, B, C, D, E, F, G, H, I, J)\r\n"
      ]
     },
     "execution_count": 3,
     "metadata": {},
     "output_type": "execute_result"
    }
   ],
   "source": [
    "val letters = List(\"A\",\"B\",\"C\",\"D\",\"E\",\"F\",\"G\",\"H\",\"I\",\"J\")"
   ]
  },
  {
   "cell_type": "code",
   "execution_count": 4,
   "id": "68d2d7ac-655c-438a-98c3-ed9c84609c82",
   "metadata": {},
   "outputs": [
    {
     "data": {
      "text/plain": [
       "dfNos: org.apache.spark.sql.DataFrame = [No: int]\r\n"
      ]
     },
     "execution_count": 4,
     "metadata": {},
     "output_type": "execute_result"
    }
   ],
   "source": [
    "val dfNos = sc.parallelize(list).toDF(\"No\")"
   ]
  },
  {
   "cell_type": "code",
   "execution_count": 5,
   "id": "61aee01c-c17a-457a-b246-18bd12a9992b",
   "metadata": {},
   "outputs": [
    {
     "data": {
      "text/plain": [
       "dfLetters: org.apache.spark.sql.DataFrame = [Letter: string]\r\n"
      ]
     },
     "execution_count": 5,
     "metadata": {},
     "output_type": "execute_result"
    }
   ],
   "source": [
    "val dfLetters = sc.parallelize(letters).toDF(\"Letter\")"
   ]
  },
  {
   "cell_type": "code",
   "execution_count": 6,
   "id": "54be9f5b-3a2a-4256-9e75-6ff42366920d",
   "metadata": {},
   "outputs": [
    {
     "data": {
      "text/plain": [
       "df1: org.apache.spark.sql.DataFrame = [No: int, id: bigint]\r\n"
      ]
     },
     "execution_count": 6,
     "metadata": {},
     "output_type": "execute_result"
    }
   ],
   "source": [
    "val df1 = dfNos.withColumn(\"id\",monotonically_increasing_id())"
   ]
  },
  {
   "cell_type": "code",
   "execution_count": 8,
   "id": "97bc3c02-1f20-4c66-937a-623ae911c30e",
   "metadata": {},
   "outputs": [
    {
     "data": {
      "text/plain": [
       "df2: org.apache.spark.sql.DataFrame = [Letter: string, id: bigint]\r\n"
      ]
     },
     "execution_count": 8,
     "metadata": {},
     "output_type": "execute_result"
    }
   ],
   "source": [
    "val df2 = dfLetters.withColumn(\"id\",monotonically_increasing_id())"
   ]
  },
  {
   "cell_type": "code",
   "execution_count": 9,
   "id": "e1760712-1ce9-4243-bdde-915eabff7652",
   "metadata": {},
   "outputs": [
    {
     "data": {
      "text/plain": [
       "df: org.apache.spark.sql.DataFrame = [No: int, Letter: string]\r\n"
      ]
     },
     "execution_count": 9,
     "metadata": {},
     "output_type": "execute_result"
    }
   ],
   "source": [
    "val df = df1.join(df2,\"id\",\"outer\").drop(\"id\")"
   ]
  },
  {
   "cell_type": "code",
   "execution_count": 10,
   "id": "f2edf828-434c-4bc8-96cb-db459aa4d6df",
   "metadata": {},
   "outputs": [
    {
     "name": "stdout",
     "output_type": "stream",
     "text": [
      "+---+-----------+\n",
      "| No|         id|\n",
      "+---+-----------+\n",
      "|  1|          0|\n",
      "|  2|          1|\n",
      "|  3| 8589934592|\n",
      "|  4| 8589934593|\n",
      "|  5| 8589934594|\n",
      "|  6|17179869184|\n",
      "|  7|17179869185|\n",
      "|  8|25769803776|\n",
      "|  9|25769803777|\n",
      "| 10|25769803778|\n",
      "+---+-----------+\n",
      "\n"
     ]
    }
   ],
   "source": [
    "df1.show()"
   ]
  },
  {
   "cell_type": "code",
   "execution_count": 11,
   "id": "117591a0-192e-4215-852d-c34d9bc38e38",
   "metadata": {},
   "outputs": [
    {
     "name": "stdout",
     "output_type": "stream",
     "text": [
      "+------+-----------+\n",
      "|Letter|         id|\n",
      "+------+-----------+\n",
      "|     A|          0|\n",
      "|     B|          1|\n",
      "|     C| 8589934592|\n",
      "|     D| 8589934593|\n",
      "|     E| 8589934594|\n",
      "|     F|17179869184|\n",
      "|     G|17179869185|\n",
      "|     H|25769803776|\n",
      "|     I|25769803777|\n",
      "|     J|25769803778|\n",
      "+------+-----------+\n",
      "\n"
     ]
    }
   ],
   "source": [
    "df2.show()"
   ]
  },
  {
   "cell_type": "code",
   "execution_count": 12,
   "id": "ce390bfd-c519-41e2-8d76-320e590dea0d",
   "metadata": {},
   "outputs": [
    {
     "name": "stdout",
     "output_type": "stream",
     "text": [
      "+---+------+\n",
      "| No|Letter|\n",
      "+---+------+\n",
      "|  1|     A|\n",
      "|  2|     B|\n",
      "|  3|     C|\n",
      "|  4|     D|\n",
      "|  5|     E|\n",
      "|  6|     F|\n",
      "|  7|     G|\n",
      "|  8|     H|\n",
      "|  9|     I|\n",
      "| 10|     J|\n",
      "+---+------+\n",
      "\n"
     ]
    }
   ],
   "source": [
    "df.show()"
   ]
  },
  {
   "cell_type": "code",
   "execution_count": null,
   "id": "efd15224-e63d-437e-b3cf-431cad2ebe78",
   "metadata": {},
   "outputs": [],
   "source": []
  }
 ],
 "metadata": {
  "kernelspec": {
   "display_name": "spylon-kernel",
   "language": "scala",
   "name": "spylon-kernel"
  },
  "language_info": {
   "codemirror_mode": "text/x-scala",
   "file_extension": ".scala",
   "help_links": [
    {
     "text": "MetaKernel Magics",
     "url": "https://metakernel.readthedocs.io/en/latest/source/README.html"
    }
   ],
   "mimetype": "text/x-scala",
   "name": "scala",
   "pygments_lexer": "scala",
   "version": "0.4.1"
  }
 },
 "nbformat": 4,
 "nbformat_minor": 5
}
